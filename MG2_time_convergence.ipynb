{
 "cells": [
  {
   "cell_type": "markdown",
   "metadata": {},
   "source": [
    "# MG2 Time-Step Convergence Tests"
   ]
  },
  {
   "cell_type": "markdown",
   "metadata": {},
   "source": [
    "## Component Being Tested"
   ]
  },
  {
   "cell_type": "markdown",
   "metadata": {},
   "source": [
    "Atmospheric cloud microphysics"
   ]
  },
  {
   "cell_type": "markdown",
   "metadata": {},
   "source": [
    "## Description"
   ]
  },
  {
   "cell_type": "markdown",
   "metadata": {},
   "source": [
    "**[ What we are looking for here is a high-level description of the tests being performed. Sean's documentation in his notebook was largely about the code. What we are looking for is documentation about the tests. So I think what is here would largely be replaced. ]**\n",
    "\n",
    "This notebook provides the capability to make temporal convergence plots of the MG2 microphysics. While the testing itself is not fully automated, this notebook produces plots and statistics that make it easier to determine the degree to which MG2 converges at approximately first order.\n",
    "\n",
    "This module requires a few dependencies (listed in the [Import statements](#import-statements) section below), as well as a compatible data file. Such a file should be a history file produced by EAM or CAM, or a netCDF file containing data in the same format (e.g. dimension names and order, same units for variables, and so on). This file should contain all variables used as input to the MG2 microphysics, each in all caps and prefixed with `MG2IN_`. E.g. there will be a `MG2IN_T` variable, an `MG2IN_Q` variable, and so on. Aerosol-related variables `RNDST` and `NACON` have an extra dimension of size four, which is handled using number suffixes rather than by adding a dimension to the netCDF file. E.g. the variables `MG2IN_RNDST1` through `MG2IN_RNDST4` should be present. For a full list of input variables, see the [Initialization](#initialization) code below."
   ]
  },
  {
   "cell_type": "markdown",
   "metadata": {},
   "source": [
    "## Variable Definitions"
   ]
  },
  {
   "cell_type": "markdown",
   "metadata": {},
   "source": [
    "**[ Any variables mentioned in the _Description_, or that get plotted, or that are necessary in some way, should be defined here. ]**"
   ]
  },
  {
   "cell_type": "markdown",
   "metadata": {},
   "source": [
    "## Discussion"
   ]
  },
  {
   "cell_type": "markdown",
   "metadata": {},
   "source": [
    "**[ What I have in mind here is a discussion of of the details of the test. For example, the _Description_ might present equations for convergence with respect to time step. Here, we might provide the list of time steps chosen, why they were chosen, and any caveats having to do with the choice. ]**"
   ]
  },
  {
   "cell_type": "markdown",
   "metadata": {},
   "source": [
    "## Results\n",
    "\n",
    "**[ I have taken much of the code from Sean's notebook and put it in the python module mg2.py. This module imports Sean's old module and encapsulates much of what he does so that readers can look at this from a high level.**\n",
    "\n",
    "**Currently, I have a `convergence_test` class, which the user constructs, calls its `initialize()` method, and then its `run_tests()` method. Looking at other python scripts Sean has in his repo, we might want to change the class to `verification_test`, change the `initialize()` and `run_tests()` method names to be convergence-specific, and then add other `init` and `run` methods. ]**"
   ]
  },
  {
   "cell_type": "markdown",
   "metadata": {},
   "source": [
    "### Setup"
   ]
  },
  {
   "cell_type": "code",
   "execution_count": null,
   "metadata": {
    "collapsed": true
   },
   "outputs": [],
   "source": [
    "# MG2 module (partially created with f2py)\n",
    "import mg2\n",
    "\n",
    "# Put plots in the notebook\n",
    "%matplotlib inline\n",
    "\n",
    "# Obtain the data file\n",
    "HIST_FILE_NAME = \"MG2_data_collection.cam.h1.0001-01-06-00000.nc\"\n",
    "HIST_URL = \"https://drive.google.com/a/uw.edu/file/d/1HIARthNbpvxo3EAEQn1MK0aANXgYJOUP/view?usp=drive_web\"\n",
    "mg2.obtain_datafile(HIST_FILE_NAME, HIST_URL)\n",
    "\n",
    "# Construct the convergence test object\n",
    "mgncol = 128\n",
    "ctest = mg2.convergence_test(HIST_FILE_NAME, mgncol)\n",
    "\n",
    "# Total number of columns to use in plots.\n",
    "total_columns = 2 * mgncol\n",
    "\n",
    "# Timesteps to run out (the data points in the plot).\n",
    "# Must divide final_time exactly (currently not tolerant of floating-point error).\n",
    "timesteps = [0.25, 1., 2., 5., 10., 15., 30., 60., 75., 100., 150., 300.]\n",
    "\n",
    "# Initialize the convergence tests\n",
    "ctest.initialize(total_columns, timesteps)"
   ]
  },
  {
   "cell_type": "markdown",
   "metadata": {},
   "source": [
    "### Main loop\n",
    "\n",
    "This loop runs MG2 on a designated number of columns using a range of time step sizes, and creates the data arrays that will be plotted (or otherwise used). At the end of the run, the 2-norm estimate of error for each column will be placed in the `norms` variable, which is a dictionary indexed by variable name, containing arrays of estimated errors at particular columns and timestep sizes.\n",
    "\n",
    "For instance, the 2-norm of error in variable `Q`, in column `c`, for the `i+1`-th timestep in the `timesteps` array, will be located at `norms['Q'][c,i]`."
   ]
  },
  {
   "cell_type": "code",
   "execution_count": null,
   "metadata": {},
   "outputs": [],
   "source": [
    "# Run the convergence tests\n",
    "%timeit -n1 -r1 ctest.run_tests()"
   ]
  },
  {
   "cell_type": "markdown",
   "metadata": {},
   "source": [
    "### Statistical Convergence Plots\n",
    "\n",
    "This function provides the ability to track the convergence of a particular variable. In order to do this, we need to collapse the vector of errors across all columns into a single number. This is done by finding the error at a given percentile (e.g. the 50th percentile is the median error)."
   ]
  },
  {
   "cell_type": "code",
   "execution_count": null,
   "metadata": {},
   "outputs": [],
   "source": [
    "ctest.plot_variable_convergence(\"QR\", (100., 90., 50.))"
   ]
  },
  {
   "cell_type": "markdown",
   "metadata": {},
   "source": [
    "### Column-tracking Convergence Plots\n",
    "\n",
    "Rather than tracking errors at a given percentile in each timestep, we can instead use percentiles to find a set of columns at *one* timestep, and then produce convergence plots specific to that column."
   ]
  },
  {
   "cell_type": "code",
   "execution_count": null,
   "metadata": {},
   "outputs": [],
   "source": [
    "ctest.plot_column_variable_convergence(\"QR\", (100., 90., 50.), 5.)"
   ]
  },
  {
   "cell_type": "code",
   "execution_count": null,
   "metadata": {},
   "outputs": [],
   "source": [
    "ctest.plot_column_variable_convergence(\"QR\", (100., 90., 50.), 100.)"
   ]
  },
  {
   "cell_type": "code",
   "execution_count": null,
   "metadata": {
    "collapsed": true
   },
   "outputs": [],
   "source": []
  }
 ],
 "metadata": {
  "kernelspec": {
   "display_name": "Python 3",
   "language": "python",
   "name": "python3"
  },
  "language_info": {
   "codemirror_mode": {
    "name": "ipython",
    "version": 3
   },
   "file_extension": ".py",
   "mimetype": "text/x-python",
   "name": "python",
   "nbconvert_exporter": "python",
   "pygments_lexer": "ipython3",
   "version": "3.6.3"
  }
 },
 "nbformat": 4,
 "nbformat_minor": 1
}
